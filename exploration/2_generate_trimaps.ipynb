{
  "nbformat": 4,
  "nbformat_minor": 0,
  "metadata": {
    "colab": {
      "name": "2_generate_trimaps.ipynb",
      "provenance": [],
      "collapsed_sections": [],
      "toc_visible": true
    },
    "kernelspec": {
      "name": "python3",
      "display_name": "Python 3"
    },
    "language_info": {
      "name": "python"
    },
    "accelerator": "GPU"
  },
  "cells": [
    {
      "cell_type": "markdown",
      "metadata": {
        "id": "36s2EXUbfq9Y"
      },
      "source": [
        "# Generate trimaps from U-2-Net alpha matte\n",
        "\n",
        "This is the 2nd step in our workflow to remove the background from an image:\n",
        "\n",
        "1. Use U-2-Net pre-trained model to generate a first alpha matte\n",
        "2. **Use the U-2-Net alpha matte to generate a trimap** (the current colab notebook)\n",
        "3. Train MODNet model with the original image, the trimap and ground truth image from DUTS dataset\n",
        "\n",
        "## Sources:\n",
        "* \n"
      ]
    },
    {
      "cell_type": "markdown",
      "metadata": {
        "id": "rxKC0bw0gXPh"
      },
      "source": [
        "# Import"
      ]
    },
    {
      "cell_type": "code",
      "metadata": {
        "id": "Kf0-7Hf9fbyd"
      },
      "source": [
        "# import modules to handle files\n",
        "import os\n",
        "import shutil\n",
        "from google.colab import drive"
      ],
      "execution_count": null,
      "outputs": []
    },
    {
      "cell_type": "markdown",
      "metadata": {
        "id": "KpzH1clzjB2Y"
      },
      "source": [
        "# Mount Google Drive"
      ]
    },
    {
      "cell_type": "code",
      "metadata": {
        "colab": {
          "base_uri": "https://localhost:8080/"
        },
        "id": "UwB3pLH7jBCC",
        "outputId": "cc56b206-ac35-4a62-b0c4-e93899ebb05e"
      },
      "source": [
        "drive.mount('/content/drive/')"
      ],
      "execution_count": null,
      "outputs": [
        {
          "output_type": "stream",
          "text": [
            "Mounted at /content/drive/\n"
          ],
          "name": "stdout"
        }
      ]
    },
    {
      "cell_type": "markdown",
      "metadata": {
        "id": "W3TYSXkosIks"
      },
      "source": [
        "# Function"
      ]
    },
    {
      "cell_type": "code",
      "metadata": {
        "id": "w04L5tv2oPFG"
      },
      "source": [
        "def generate_trimap_from_alpha_matte(src_dir_path,\n",
        "                                     dst_dir_path,\n",
        "                                     open_size=10,\n",
        "                                     alpha_margin=10):\n",
        "  \n",
        "  # if destination directory doesn't exists, create it\n",
        "  if not os.path.exists(dst_dir_path):\n",
        "    os.makedirs(dst_dir_path)\n",
        "\n",
        "  # get list of alpha matte paths in source directory\n",
        "  alpha_matte_path_list = glob.glob(src_dir_path + os.sep + '*')\n",
        "\n",
        "  for alpha_matte_path in alpha_matte_path_list:\n",
        "\n",
        "    # get alpha matte filename\n",
        "    alpha_matte_name = alpha_matte_path.split(os.sep)[-1]\n",
        "\n",
        "    # create destination path for the alpha matte\n",
        "    dst_path = os.path.join(dst_dir, alpha_matte_name)\n",
        "\n",
        "    # read alpha matte image into numpy array\n",
        "    alpha_matte = cv2.imread(alpha_matte_path, 0)\n",
        "\n",
        "    # make sure if the alpha_matte array has 2 dimensions \n",
        "    assert alpha_matte.ndim == 2\n",
        "\n",
        "    # compute each region\n",
        "    ## get foreground region\n",
        "    foreground = ((255 - alpha_margin) < alpha_matte)\n",
        "\n",
        "    ## get background region\n",
        "    background = (alpha_matte < alpha_margin)\n",
        "\n",
        "    ## get unknown region: outside of background and foreground\n",
        "    unknown = ~(foreground + background)\n",
        "\n",
        "    ## dilate unknown area with elliptical kernel.\n",
        "    unknown = cv2.dilate(\n",
        "        unknown.astype(np.uint8),\n",
        "        cv2.getStructuringElement(cv2.MORPH_ELLIPSE, (open_size, open_size))\n",
        "    ).astype(np.bool)\n",
        "\n",
        "    # draw trimap\n",
        "    trimap = np.zeros_like(alpha_matte)\n",
        "    trimap[foreground] = 255\n",
        "    trimap[unknown] = 127\n",
        "\n",
        "    # save trimap\n",
        "    cv2.imwrite(dst_path, trimap)"
      ],
      "execution_count": null,
      "outputs": []
    },
    {
      "cell_type": "markdown",
      "metadata": {
        "id": "P6Fnw1MJA7pH"
      },
      "source": [
        "# Generate trimaps for training and test sets"
      ]
    },
    {
      "cell_type": "code",
      "metadata": {
        "id": "wjvXzywHBU2W"
      },
      "source": [
        "# generate trimaps for training set\n",
        "train_src_dir=\"/content/drive/MyDrive/Faktion/DUTS/DUTS-TR/DUTS-TR-u2net-MASK/\"\n",
        "train_dst_dir=\"/content/drive/MyDrive/Faktion/DUTS/DUTS-TR/DUTS-TR-Trimap/\"\n",
        "generate_trimap_from_alpha_matte(train_src_dir, train_dst_dir)\n",
        "\n",
        "# generate trimaps for test set\n",
        "test_src_dir=\"/content/drive/MyDrive/Faktion/DUTS/DUTS-TE/DUTS-TE-u2net-MASK/\"\n",
        "test_dst_dir=\"/content/drive/MyDrive/Faktion/DUTS/DUTS-TE/DUTS-TE-Trimap/\"\n",
        "generate_trimap_from_alpha_matte(test_src_dir, test_dst_dir)"
      ],
      "execution_count": null,
      "outputs": []
    }
  ]
}