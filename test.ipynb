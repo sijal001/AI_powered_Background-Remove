{
 "metadata": {
  "language_info": {
   "codemirror_mode": {
    "name": "ipython",
    "version": 3
   },
   "file_extension": ".py",
   "mimetype": "text/x-python",
   "name": "python",
   "nbconvert_exporter": "python",
   "pygments_lexer": "ipython3",
   "version": "3.8.5"
  },
  "orig_nbformat": 2,
  "kernelspec": {
   "name": "python385jvsc74a57bd0138af860d02ea00a1fa5ec9c182d8b4db278e3bb382f55e29d53b07cb9ee88f3",
   "display_name": "Python 3.8.5 64-bit ('base': conda)"
  }
 },
 "nbformat": 4,
 "nbformat_minor": 2,
 "cells": [
  {
   "cell_type": "code",
   "execution_count": 4,
   "metadata": {},
   "outputs": [],
   "source": [
    "from natsort import natsorted, ns\n",
    "# import modules to handle files\n",
    "import os\n",
    "import sys\n",
    "\n",
    "# import modules for compution vision\n",
    "import numpy as np\n",
    "import cv2\n",
    "\n",
    "import gdown"
   ]
  },
  {
   "cell_type": "code",
   "execution_count": 9,
   "metadata": {},
   "outputs": [
    {
     "output_type": "stream",
     "name": "stderr",
     "text": [
      "Cloning into 'MODNet'...\n"
     ]
    }
   ],
   "source": [
    "# if repository not already in directory, clone it\n",
    "if not os.path.exists('U-2-Net'):\n",
    "  !git clone https://github.com/xuebinqin/U-2-Net.git\n",
    "\n",
    "# if repository not already in directory, clone it\n",
    "if not os.path.exists('MODNet'):\n",
    "  !git clone https://github.com/ZHKKKe/MODNet.git\n",
    "\n",
    "# create the folder to save model\n",
    "if not os.path.exists(r'./U-2-Net/saved_models/u2net/'):\n",
    "    os.mkdir(r'./U-2-Net/saved_models/u2net/')\n",
    "\n",
    "# download model \n",
    "if not os.path.isfile(r'./U-2-Net/saved_models/u2net/u2net.pth'):\n",
    "    url = 'https://drive.google.com/uc?id=1ao1ovG1Qtx4b7EoskHXmi2E9rp5CHLcZ'\n",
    "    output = r'./U-2-Net/saved_models/u2net/u2net.pth'\n",
    "    gdown.download(url, output, quiet=False)"
   ]
  },
  {
   "cell_type": "code",
   "execution_count": null,
   "metadata": {},
   "outputs": [],
   "source": [
    "def dataloader(file_location='./dataset/training_set/'):\n",
    "    path = file_location\n",
    "    image_path = os.listdir(path + 'images')\n",
    "    gt_path = os.listdir(path + 'ground_truths')\n",
    "    trimap = os.listdir(path + 'trimaps')\n",
    "\n",
    "    # short in an order\n",
    "    image_path = natsorted(image_path, alg=ns.IGNORECASE)\n",
    "    gt_path = natsorted(gt_path, alg=ns.IGNORECASE)\n",
    "    trimap = natsorted(trimap, alg=ns.IGNORECASE)\n",
    "\n",
    "    return zip(image_path, trimap, gt_path)"
   ]
  }
 ]
}