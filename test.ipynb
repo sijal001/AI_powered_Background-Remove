{
 "metadata": {
  "language_info": {
   "codemirror_mode": {
    "name": "ipython",
    "version": 3
   },
   "file_extension": ".py",
   "mimetype": "text/x-python",
   "name": "python",
   "nbconvert_exporter": "python",
   "pygments_lexer": "ipython3",
   "version": "3.8.8"
  },
  "orig_nbformat": 2,
  "kernelspec": {
   "name": "python388jvsc74a57bd0db74b6cf253f3d1752866f1a73259b874beb65d95511e62ec1f648eb0403f7e3",
   "display_name": "Python 3.8.8 64-bit ('vision': conda)"
  }
 },
 "nbformat": 4,
 "nbformat_minor": 2,
 "cells": [
  {
   "source": [
    "## Import Libaries"
   ],
   "cell_type": "markdown",
   "metadata": {}
  },
  {
   "cell_type": "code",
   "execution_count": 3,
   "metadata": {},
   "outputs": [],
   "source": [
    "from natsort import natsorted, ns\n",
    "# import modules to handle files\n",
    "import os\n",
    "import sys\n",
    "\n",
    "# import modules for compution vision\n",
    "import numpy as np\n",
    "import cv2\n",
    "\n",
    "import gdown\n",
    "import shutil "
   ]
  },
  {
   "source": [
    "## Download U2Net, MODNet and models"
   ],
   "cell_type": "markdown",
   "metadata": {}
  },
  {
   "cell_type": "code",
   "execution_count": 4,
   "metadata": {},
   "outputs": [],
   "source": [
    "# if repository not already in directory, clone it\n",
    "if not os.path.exists('U-2-Net'):\n",
    "  !git clone https://github.com/xuebinqin/U-2-Net.git\n",
    "\n",
    "# if repository not already in directory, clone it\n",
    "if not os.path.exists('MODNet'):\n",
    "  !git clone https://github.com/ZHKKKe/MODNet.git\n",
    "\n",
    "# create the folder to save model\n",
    "if not os.path.exists(r'./U-2-Net/saved_models/u2net/'):\n",
    "    os.mkdir(r'./U-2-Net/saved_models/u2net/')\n",
    "\n",
    "# download model \n",
    "if not os.path.isfile(r'./U-2-Net/saved_models/u2net/u2net.pth'):\n",
    "    url = 'https://drive.google.com/uc?id=1ao1ovG1Qtx4b7EoskHXmi2E9rp5CHLcZ'\n",
    "    output = r'./U-2-Net/saved_models/u2net/u2net.pth'\n",
    "    gdown.download(url, output, quiet=False)"
   ]
  },
  {
   "cell_type": "code",
   "execution_count": 5,
   "metadata": {},
   "outputs": [],
   "source": [
    "# Computing TRIMAP\n",
    "def compute_trimap_from_alpha(name, src_dir, dst_dir, open_size=10,\n",
    "                              alpha_margin=10):\n",
    "    src_path = os.path.join(src_dir, name)\n",
    "    # if not os.path.exists(src_path):\n",
    "    #     logger.error('\"%s\" dose not exist', src_path)\n",
    "    #     return\n",
    "    print(src_path)\n",
    "\n",
    "    dst_path = os.path.join(dst_dir, name)\n",
    "    print(dst_path)\n",
    "    # if os.path.exists(dst_path):\n",
    "    #     logger.info('\"%s\" exists, Skip...', dst_path)\n",
    "    #     return\n",
    "\n",
    "    # logger.info('Trimap for \"%s\"', src_path)\n",
    "    alpha = cv2.imread(src_path, 0)\n",
    "    print(alpha)\n",
    "    assert alpha.ndim == 2\n",
    "\n",
    "    # Compute each region\n",
    "    fore = ((255 - alpha_margin) < alpha)\n",
    "    back = (alpha < alpha_margin)\n",
    "    unknown = ~(fore + back)\n",
    "    unknown = cv2.dilate(\n",
    "        unknown.astype(np.uint8),\n",
    "        cv2.getStructuringElement(cv2.MORPH_ELLIPSE, (open_size, open_size))\n",
    "    ).astype(np.bool)\n",
    "\n",
    "    # Draw\n",
    "    trimap = np.zeros_like(alpha)\n",
    "    trimap[fore] = 255\n",
    "    trimap[unknown] = 127\n",
    "\n",
    "    cv2.imwrite(dst_path, trimap)"
   ]
  },
  {
   "cell_type": "code",
   "execution_count": 6,
   "metadata": {},
   "outputs": [],
   "source": [
    "# Loading data in correct format for MODNet training  \n",
    "def dataloader(file_location):\n",
    "    path = file_location\n",
    "    image_path = os.listdir(path + 'images')\n",
    "    gt_path = os.listdir(path + 'ground_truths')\n",
    "    trimap = os.listdir(path + 'trimaps')\n",
    "\n",
    "    # short in an order\n",
    "    image_path = natsorted(image_path, alg=ns.IGNORECASE)\n",
    "    gt_path = natsorted(gt_path, alg=ns.IGNORECASE)\n",
    "    trimap = natsorted(trimap, alg=ns.IGNORECASE)\n",
    "\n",
    "    return zip(image_path, trimap, gt_path)"
   ]
  },
  {
   "cell_type": "code",
   "execution_count": 45,
   "metadata": {},
   "outputs": [],
   "source": [
    "# getting trimap and manging storage and memory\n",
    "def get_trimap(path, image):\n",
    "\n",
    "    # main image dir should have 3 important folders images, ground_truths, trimaps\n",
    "    # (one image at a time) copy target image to ./U-2-Net/test_image\n",
    "    shutil.copy2(f'{path}images/{image}', './U-2-Net/test_data/test_images')\n",
    "\n",
    "    # generate alpha_matting\n",
    "    %cd ./U-2-Net/\n",
    "    !python u2net_test.py\n",
    "\n",
    "    # generate trimap \n",
    "    %cd ..\n",
    "    compute_trimap_from_alpha(f\"{image[:-4]}.png\", \"./U-2-Net/test_data/u2net_results/\", f'{path}trimaps/')\n",
    "\n",
    "    # delete every image file from test_image and u2net_results\n",
    "    os.remove(f'./U-2-Net/test_data/test_images/{image}')\n",
    "    \n",
    "    shutil.move(f'./U-2-Net/test_data/u2net_results/{image[:-4]}.png', f'{path}alpha_matting/')\n"
   ]
  },
  {
   "cell_type": "code",
   "execution_count": 47,
   "metadata": {},
   "outputs": [
    {
     "output_type": "stream",
     "name": "stdout",
     "text": [
      "c:\\01 D\\ML project\\Remove_Image_Background\\U-2-Net\n",
      "['c:\\\\01 D\\\\ML project\\\\Remove_Image_Background\\\\U-2-Net\\\\test_data\\\\test_images\\\\ILSVRC2012_test_00000004.jpg']\n",
      "...load U2NET---173.6 MB\n",
      "inferencing: ILSVRC2012_test_00000004.jpg\n",
      "c:\\01 D\\ML project\\Remove_Image_Background\n",
      "./U-2-Net/test_data/u2net_results/ILSVRC2012_test_00000004.png\n",
      "./dataset/training_set/trimaps/ILSVRC2012_test_00000004.png\n",
      "[[0 0 0 ... 0 0 0]\n",
      " [0 0 0 ... 0 0 0]\n",
      " [0 0 0 ... 0 0 0]\n",
      " ...\n",
      " [0 0 0 ... 0 0 0]\n",
      " [0 0 0 ... 0 0 0]\n",
      " [0 0 0 ... 0 0 0]]\n",
      "C:\\Users\\sijal\\anaconda3\\envs\\vision\\lib\\site-packages\\torch\\nn\\functional.py:3328: UserWarning: nn.functional.upsample is deprecated. Use nn.functional.interpolate instead.\n",
      "  warnings.warn(\"nn.functional.upsample is deprecated. Use nn.functional.interpolate instead.\")\n",
      "C:\\Users\\sijal\\anaconda3\\envs\\vision\\lib\\site-packages\\torch\\nn\\functional.py:3454: UserWarning: Default upsampling behavior when mode=bilinear is changed to align_corners=False since 0.4.0. Please specify align_corners=True if the old behavior is desired. See the documentation of nn.Upsample for details.\n",
      "  warnings.warn(\n",
      "C:\\Users\\sijal\\anaconda3\\envs\\vision\\lib\\site-packages\\torch\\nn\\functional.py:1709: UserWarning: nn.functional.sigmoid is deprecated. Use torch.sigmoid instead.\n",
      "  warnings.warn(\"nn.functional.sigmoid is deprecated. Use torch.sigmoid instead.\")\n"
     ]
    }
   ],
   "source": [
    "path = './dataset/training_set/'\n",
    "image = \"ILSVRC2012_test_00000004.jpg\"\n",
    "\n",
    "get_trimap(path, image)"
   ]
  },
  {
   "cell_type": "code",
   "execution_count": 46,
   "metadata": {},
   "outputs": [
    {
     "output_type": "stream",
     "name": "stdout",
     "text": [
      "c:\\01 D\\ML project\\Remove_Image_Background\\U-2-Net\n",
      "^C\n",
      "c:\\01 D\\ML project\\Remove_Image_Background\n",
      "./U-2-Net/test_data/u2net_results/ILSVRC2012_test_00000004.png\n",
      "./dataset/training_set/trimaps/ILSVRC2012_test_00000004.png\n",
      "None\n"
     ]
    },
    {
     "output_type": "error",
     "ename": "AttributeError",
     "evalue": "'NoneType' object has no attribute 'ndim'",
     "traceback": [
      "\u001b[1;31m---------------------------------------------------------------------------\u001b[0m",
      "\u001b[1;31mAttributeError\u001b[0m                            Traceback (most recent call last)",
      "\u001b[1;32m<ipython-input-46-393b4aa7b3e2>\u001b[0m in \u001b[0;36m<module>\u001b[1;34m\u001b[0m\n\u001b[0;32m      4\u001b[0m \u001b[1;33m\u001b[0m\u001b[0m\n\u001b[0;32m      5\u001b[0m \u001b[1;32mfor\u001b[0m \u001b[0mimage\u001b[0m \u001b[1;32min\u001b[0m \u001b[0mimages\u001b[0m\u001b[1;33m:\u001b[0m\u001b[1;33m\u001b[0m\u001b[1;33m\u001b[0m\u001b[0m\n\u001b[1;32m----> 6\u001b[1;33m     \u001b[0mget_trimap\u001b[0m\u001b[1;33m(\u001b[0m\u001b[0mpath\u001b[0m\u001b[1;33m,\u001b[0m \u001b[0mimage\u001b[0m\u001b[1;33m)\u001b[0m\u001b[1;33m\u001b[0m\u001b[1;33m\u001b[0m\u001b[0m\n\u001b[0m",
      "\u001b[1;32m<ipython-input-45-c62780970cca>\u001b[0m in \u001b[0;36mget_trimap\u001b[1;34m(path, image)\u001b[0m\n\u001b[0;32m     12\u001b[0m     \u001b[1;31m# generate trimap\u001b[0m\u001b[1;33m\u001b[0m\u001b[1;33m\u001b[0m\u001b[1;33m\u001b[0m\u001b[0m\n\u001b[0;32m     13\u001b[0m     \u001b[0mget_ipython\u001b[0m\u001b[1;33m(\u001b[0m\u001b[1;33m)\u001b[0m\u001b[1;33m.\u001b[0m\u001b[0mrun_line_magic\u001b[0m\u001b[1;33m(\u001b[0m\u001b[1;34m'cd'\u001b[0m\u001b[1;33m,\u001b[0m \u001b[1;34m'..'\u001b[0m\u001b[1;33m)\u001b[0m\u001b[1;33m\u001b[0m\u001b[1;33m\u001b[0m\u001b[0m\n\u001b[1;32m---> 14\u001b[1;33m     \u001b[0mcompute_trimap_from_alpha\u001b[0m\u001b[1;33m(\u001b[0m\u001b[1;34mf\"{image[:-4]}.png\"\u001b[0m\u001b[1;33m,\u001b[0m \u001b[1;34m\"./U-2-Net/test_data/u2net_results/\"\u001b[0m\u001b[1;33m,\u001b[0m \u001b[1;34mf'{path}trimaps/'\u001b[0m\u001b[1;33m)\u001b[0m\u001b[1;33m\u001b[0m\u001b[1;33m\u001b[0m\u001b[0m\n\u001b[0m\u001b[0;32m     15\u001b[0m \u001b[1;33m\u001b[0m\u001b[0m\n\u001b[0;32m     16\u001b[0m     \u001b[1;31m# delete every image file from test_image and u2net_results\u001b[0m\u001b[1;33m\u001b[0m\u001b[1;33m\u001b[0m\u001b[1;33m\u001b[0m\u001b[0m\n",
      "\u001b[1;32m<ipython-input-5-8e623e3134a4>\u001b[0m in \u001b[0;36mcompute_trimap_from_alpha\u001b[1;34m(name, src_dir, dst_dir, open_size, alpha_margin)\u001b[0m\n\u001b[0;32m     16\u001b[0m     \u001b[0malpha\u001b[0m \u001b[1;33m=\u001b[0m \u001b[0mcv2\u001b[0m\u001b[1;33m.\u001b[0m\u001b[0mimread\u001b[0m\u001b[1;33m(\u001b[0m\u001b[0msrc_path\u001b[0m\u001b[1;33m,\u001b[0m \u001b[1;36m0\u001b[0m\u001b[1;33m)\u001b[0m\u001b[1;33m\u001b[0m\u001b[1;33m\u001b[0m\u001b[0m\n\u001b[0;32m     17\u001b[0m     \u001b[0mprint\u001b[0m\u001b[1;33m(\u001b[0m\u001b[0malpha\u001b[0m\u001b[1;33m)\u001b[0m\u001b[1;33m\u001b[0m\u001b[1;33m\u001b[0m\u001b[0m\n\u001b[1;32m---> 18\u001b[1;33m     \u001b[1;32massert\u001b[0m \u001b[0malpha\u001b[0m\u001b[1;33m.\u001b[0m\u001b[0mndim\u001b[0m \u001b[1;33m==\u001b[0m \u001b[1;36m2\u001b[0m\u001b[1;33m\u001b[0m\u001b[1;33m\u001b[0m\u001b[0m\n\u001b[0m\u001b[0;32m     19\u001b[0m \u001b[1;33m\u001b[0m\u001b[0m\n\u001b[0;32m     20\u001b[0m     \u001b[1;31m# Compute each region\u001b[0m\u001b[1;33m\u001b[0m\u001b[1;33m\u001b[0m\u001b[1;33m\u001b[0m\u001b[0m\n",
      "\u001b[1;31mAttributeError\u001b[0m: 'NoneType' object has no attribute 'ndim'"
     ]
    }
   ],
   "source": [
    "# geting trimap of every image from the dir\n",
    "path = './dataset/training_set/'\n",
    "images = os.listdir(f'{path}/images')\n",
    "\n",
    "for image in images:\n",
    "    get_trimap(path, image)"
   ]
  },
  {
   "cell_type": "code",
   "execution_count": 72,
   "metadata": {},
   "outputs": [
    {
     "output_type": "stream",
     "name": "stderr",
     "text": [
      "Traceback (most recent call last):\n  File \"get_apha_matting.py\", line 16, in <module>\n    from data_loader import RescaleT\nModuleNotFoundError: No module named 'data_loader'\n"
     ]
    }
   ],
   "source": [
    "# generate alpha_matting\n",
    "path = './dataset/training_set/'\n",
    "\n",
    "!python get_apha_matting.py path"
   ]
  },
  {
   "cell_type": "code",
   "execution_count": 69,
   "metadata": {},
   "outputs": [
    {
     "output_type": "stream",
     "name": "stdout",
     "text": [
      "c:\\01 D\\ML project\\Remove_Image_Background\n"
     ]
    }
   ],
   "source": [
    "%cd .."
   ]
  },
  {
   "cell_type": "code",
   "execution_count": 70,
   "metadata": {},
   "outputs": [
    {
     "output_type": "execute_result",
     "data": {
      "text/plain": [
       "'c:\\\\01 D\\\\ML project\\\\Remove_Image_Background'"
      ]
     },
     "metadata": {},
     "execution_count": 70
    }
   ],
   "source": [
    "os.getcwd()"
   ]
  },
  {
   "cell_type": "code",
   "execution_count": null,
   "metadata": {},
   "outputs": [],
   "source": []
  }
 ]
}